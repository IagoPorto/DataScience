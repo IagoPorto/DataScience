{
 "cells": [
  {
   "cell_type": "markdown",
   "id": "46290b27",
   "metadata": {},
   "source": [
    "# NUMPY"
   ]
  },
  {
   "cell_type": "code",
   "execution_count": 1,
   "id": "fdcbe7d1",
   "metadata": {},
   "outputs": [
    {
     "data": {
      "text/plain": [
       "5.0"
      ]
     },
     "execution_count": 1,
     "metadata": {},
     "output_type": "execute_result"
    }
   ],
   "source": [
    "import numpy as np\n",
    "\n",
    "np.sqrt(25)\n"
   ]
  },
  {
   "cell_type": "markdown",
   "id": "bc0a6c75",
   "metadata": {},
   "source": [
    "# Arrays\n"
   ]
  },
  {
   "cell_type": "markdown",
   "id": "dda34345",
   "metadata": {},
   "source": [
    "## np.array()"
   ]
  },
  {
   "cell_type": "code",
   "execution_count": 3,
   "id": "0b7fbc2c",
   "metadata": {},
   "outputs": [
    {
     "data": {
      "text/plain": [
       "list"
      ]
     },
     "execution_count": 3,
     "metadata": {},
     "output_type": "execute_result"
    }
   ],
   "source": [
    "a = [ 0,1 ,2 ,3 ,4, 5]\n",
    "\n",
    "type(a)"
   ]
  },
  {
   "cell_type": "code",
   "execution_count": 5,
   "id": "63dc7c0e",
   "metadata": {},
   "outputs": [
    {
     "data": {
      "text/plain": [
       "numpy.ndarray"
      ]
     },
     "execution_count": 5,
     "metadata": {},
     "output_type": "execute_result"
    }
   ],
   "source": [
    "type(np.ndarray(a))"
   ]
  },
  {
   "cell_type": "markdown",
   "id": "1ab0cc3c",
   "metadata": {},
   "source": [
    "## np.arange()"
   ]
  },
  {
   "cell_type": "code",
   "execution_count": 7,
   "id": "01319c3e",
   "metadata": {},
   "outputs": [
    {
     "name": "stdout",
     "output_type": "stream",
     "text": [
      "[ 4  6  8 10 12 14 16 18 20 22 24]\n"
     ]
    }
   ],
   "source": [
    "b = np.arange(4, 25, 2)\n",
    "\n",
    "print(b)"
   ]
  },
  {
   "cell_type": "markdown",
   "id": "ecf54191",
   "metadata": {},
   "source": [
    "## np.linspace()"
   ]
  },
  {
   "cell_type": "code",
   "execution_count": 10,
   "id": "a56a0c42",
   "metadata": {},
   "outputs": [
    {
     "data": {
      "text/plain": [
       "array([ 1.  , 10.75, 20.5 , 30.25, 40.  ])"
      ]
     },
     "execution_count": 10,
     "metadata": {},
     "output_type": "execute_result"
    }
   ],
   "source": [
    "c = np.linspace(1, 40, 5)\n",
    "\n",
    "c"
   ]
  },
  {
   "cell_type": "markdown",
   "id": "a92068ef",
   "metadata": {},
   "source": [
    "## np.zeros()"
   ]
  },
  {
   "cell_type": "code",
   "execution_count": 13,
   "id": "dbebec58",
   "metadata": {},
   "outputs": [
    {
     "data": {
      "text/plain": [
       "array([0., 0., 0., 0., 0., 0., 0., 0., 0., 0., 0., 0., 0., 0., 0., 0., 0.,\n",
       "       0., 0., 0., 0., 0., 0., 0., 0., 0., 0., 0., 0., 0., 0., 0., 0., 0.,\n",
       "       0., 0., 0., 0., 0., 0., 0., 0., 0., 0., 0., 0., 0., 0., 0., 0.])"
      ]
     },
     "execution_count": 13,
     "metadata": {},
     "output_type": "execute_result"
    }
   ],
   "source": [
    "d = np.zeros(50)\n",
    "\n",
    "d"
   ]
  },
  {
   "cell_type": "markdown",
   "id": "c6d9da05",
   "metadata": {},
   "source": [
    "## np.ones()"
   ]
  },
  {
   "cell_type": "code",
   "execution_count": 15,
   "id": "17275b8f",
   "metadata": {},
   "outputs": [
    {
     "data": {
      "text/plain": [
       "array([1., 1., 1., 1., 1., 1., 1., 1., 1., 1., 1., 1., 1., 1., 1., 1., 1.,\n",
       "       1., 1., 1., 1., 1., 1., 1., 1., 1., 1., 1., 1., 1., 1., 1., 1., 1.,\n",
       "       1., 1., 1., 1., 1., 1., 1., 1., 1., 1., 1., 1., 1., 1., 1., 1.])"
      ]
     },
     "execution_count": 15,
     "metadata": {},
     "output_type": "execute_result"
    }
   ],
   "source": [
    "e = np.ones(50)\n",
    "\n",
    "e"
   ]
  },
  {
   "cell_type": "markdown",
   "id": "e5cd647d",
   "metadata": {},
   "source": [
    "# Dimensiones"
   ]
  },
  {
   "cell_type": "code",
   "execution_count": 17,
   "id": "2962896b",
   "metadata": {},
   "outputs": [
    {
     "name": "stdout",
     "output_type": "stream",
     "text": [
      "[[0. 0. 0. 0. 0. 0. 0. 0. 0. 0. 0. 0. 0. 0. 0. 0. 0. 0. 0. 0. 0. 0. 0. 0.\n",
      "  0. 0. 0. 0. 0. 0. 0. 0. 0. 0. 0. 0. 0. 0. 0. 0. 0. 0. 0. 0. 0. 0. 0. 0.\n",
      "  0. 0.]\n",
      " [1. 1. 1. 1. 1. 1. 1. 1. 1. 1. 1. 1. 1. 1. 1. 1. 1. 1. 1. 1. 1. 1. 1. 1.\n",
      "  1. 1. 1. 1. 1. 1. 1. 1. 1. 1. 1. 1. 1. 1. 1. 1. 1. 1. 1. 1. 1. 1. 1. 1.\n",
      "  1. 1.]]\n"
     ]
    }
   ],
   "source": [
    "array_2d = np.array([d,e])\n",
    "print(array_2d)"
   ]
  },
  {
   "cell_type": "markdown",
   "id": "6f3a250a",
   "metadata": {},
   "source": [
    "## array.shape"
   ]
  },
  {
   "cell_type": "code",
   "execution_count": 19,
   "id": "92f0093a",
   "metadata": {},
   "outputs": [
    {
     "data": {
      "text/plain": [
       "(2, 50)"
      ]
     },
     "execution_count": 19,
     "metadata": {},
     "output_type": "execute_result"
    }
   ],
   "source": [
    "array_2d.shape"
   ]
  },
  {
   "cell_type": "markdown",
   "id": "572843c0",
   "metadata": {},
   "source": [
    "## array.size"
   ]
  },
  {
   "cell_type": "code",
   "execution_count": 20,
   "id": "be45f1b6",
   "metadata": {},
   "outputs": [
    {
     "data": {
      "text/plain": [
       "100"
      ]
     },
     "execution_count": 20,
     "metadata": {},
     "output_type": "execute_result"
    }
   ],
   "source": [
    "array_2d.size\n"
   ]
  },
  {
   "cell_type": "markdown",
   "id": "36522ccc",
   "metadata": {},
   "source": [
    "## array.ndim\n"
   ]
  },
  {
   "cell_type": "code",
   "execution_count": 21,
   "id": "5323a749",
   "metadata": {},
   "outputs": [
    {
     "data": {
      "text/plain": [
       "2"
      ]
     },
     "execution_count": 21,
     "metadata": {},
     "output_type": "execute_result"
    }
   ],
   "source": [
    "array_2d.ndim\n"
   ]
  },
  {
   "cell_type": "markdown",
   "id": "9883dd1b",
   "metadata": {},
   "source": [
    "## Operaciones con arrays"
   ]
  },
  {
   "cell_type": "code",
   "execution_count": 22,
   "id": "3f5ed0ec",
   "metadata": {},
   "outputs": [],
   "source": [
    "lista_1 = [1, 2, 3]\n",
    "lista_2 = [4, 5, 6]"
   ]
  },
  {
   "cell_type": "code",
   "execution_count": 23,
   "id": "edddb598",
   "metadata": {},
   "outputs": [],
   "source": [
    "array_1 = np.array(lista_1)\n",
    "array_2 = np.array(lista_2)\n"
   ]
  },
  {
   "cell_type": "code",
   "execution_count": 24,
   "id": "fbc5460c",
   "metadata": {},
   "outputs": [
    {
     "data": {
      "text/plain": [
       "array([ 4, 10, 18])"
      ]
     },
     "execution_count": 24,
     "metadata": {},
     "output_type": "execute_result"
    }
   ],
   "source": [
    "array_1 * array_2"
   ]
  },
  {
   "cell_type": "markdown",
   "id": "28ff5473",
   "metadata": {},
   "source": [
    "## Funciones"
   ]
  },
  {
   "cell_type": "markdown",
   "id": "cb705b98",
   "metadata": {},
   "source": [
    "## np.reshape()"
   ]
  },
  {
   "cell_type": "code",
   "execution_count": 25,
   "id": "3995edac",
   "metadata": {},
   "outputs": [
    {
     "data": {
      "text/plain": [
       "(2, 50)"
      ]
     },
     "execution_count": 25,
     "metadata": {},
     "output_type": "execute_result"
    }
   ],
   "source": [
    "array_2d.shape"
   ]
  },
  {
   "cell_type": "code",
   "execution_count": 26,
   "id": "aa55b2fd",
   "metadata": {},
   "outputs": [],
   "source": [
    "f = np.reshape(array_2d, (5, 20))"
   ]
  },
  {
   "cell_type": "code",
   "execution_count": 27,
   "id": "d5d9f36e",
   "metadata": {},
   "outputs": [
    {
     "data": {
      "text/plain": [
       "array([[0., 0., 0., 0., 0., 0., 0., 0., 0., 0., 0., 0., 0., 0., 0., 0.,\n",
       "        0., 0., 0., 0.],\n",
       "       [0., 0., 0., 0., 0., 0., 0., 0., 0., 0., 0., 0., 0., 0., 0., 0.,\n",
       "        0., 0., 0., 0.],\n",
       "       [0., 0., 0., 0., 0., 0., 0., 0., 0., 0., 1., 1., 1., 1., 1., 1.,\n",
       "        1., 1., 1., 1.],\n",
       "       [1., 1., 1., 1., 1., 1., 1., 1., 1., 1., 1., 1., 1., 1., 1., 1.,\n",
       "        1., 1., 1., 1.],\n",
       "       [1., 1., 1., 1., 1., 1., 1., 1., 1., 1., 1., 1., 1., 1., 1., 1.,\n",
       "        1., 1., 1., 1.]])"
      ]
     },
     "execution_count": 27,
     "metadata": {},
     "output_type": "execute_result"
    }
   ],
   "source": [
    "f"
   ]
  },
  {
   "cell_type": "code",
   "execution_count": 28,
   "id": "4c25c45a",
   "metadata": {},
   "outputs": [
    {
     "data": {
      "text/plain": [
       "(5, 20)"
      ]
     },
     "execution_count": 28,
     "metadata": {},
     "output_type": "execute_result"
    }
   ],
   "source": [
    "f.shape"
   ]
  },
  {
   "cell_type": "markdown",
   "id": "1f666d61",
   "metadata": {},
   "source": [
    "## array.T --> Transpose"
   ]
  },
  {
   "cell_type": "code",
   "execution_count": 32,
   "id": "4761d681",
   "metadata": {},
   "outputs": [],
   "source": [
    "a = np.array([[1, 2, 3, 4, 5], [10, 20, 30 ,40 ,50]])"
   ]
  },
  {
   "cell_type": "code",
   "execution_count": 33,
   "id": "802d8503",
   "metadata": {},
   "outputs": [
    {
     "data": {
      "text/plain": [
       "array([[ 1, 10],\n",
       "       [ 2, 20],\n",
       "       [ 3, 30],\n",
       "       [ 4, 40],\n",
       "       [ 5, 50]])"
      ]
     },
     "execution_count": 33,
     "metadata": {},
     "output_type": "execute_result"
    }
   ],
   "source": [
    "a.T"
   ]
  },
  {
   "cell_type": "code",
   "execution_count": null,
   "id": "c156d792",
   "metadata": {},
   "outputs": [],
   "source": []
  }
 ],
 "metadata": {
  "kernelspec": {
   "display_name": "Python 3 (ipykernel)",
   "language": "python",
   "name": "python3"
  },
  "language_info": {
   "codemirror_mode": {
    "name": "ipython",
    "version": 3
   },
   "file_extension": ".py",
   "mimetype": "text/x-python",
   "name": "python",
   "nbconvert_exporter": "python",
   "pygments_lexer": "ipython3",
   "version": "3.10.9"
  }
 },
 "nbformat": 4,
 "nbformat_minor": 5
}
